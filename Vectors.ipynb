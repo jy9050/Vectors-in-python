{
 "cells": [
  {
   "cell_type": "code",
   "execution_count": 1,
   "id": "20bf6354-05b8-457d-8b09-166f8365d03a",
   "metadata": {},
   "outputs": [
    {
     "name": "stdout",
     "output_type": "stream",
     "text": [
      "Vector 1: [1 2 3]\n",
      "Vector 2: [4 5 6]\n"
     ]
    }
   ],
   "source": [
    "import numpy as np\n",
    "\n",
    "#Vectors\n",
    "v1=np.array([1,2,3])\n",
    "v2=np.array([4,5,6])\n",
    "\n",
    "print(\"Vector 1:\",v1)\n",
    "print(\"Vector 2:\",v2)"
   ]
  },
  {
   "cell_type": "code",
   "execution_count": 2,
   "id": "f1d9f652-e36f-40b1-95a1-006936f162be",
   "metadata": {},
   "outputs": [
    {
     "name": "stdout",
     "output_type": "stream",
     "text": [
      "Addition: [5 7 9]\n"
     ]
    }
   ],
   "source": [
    "\n",
    "# Addition \n",
    "print(\"Addition:\",v1+v2)"
   ]
  },
  {
   "cell_type": "code",
   "execution_count": 3,
   "id": "b07b0b03-22d3-4cdb-b39c-c07f58480d78",
   "metadata": {},
   "outputs": [
    {
     "name": "stdout",
     "output_type": "stream",
     "text": [
      "Subtraction: [-3 -3 -3]\n"
     ]
    }
   ],
   "source": [
    "# Subtraction\n",
    "print(\"Subtraction:\",v1-v2)"
   ]
  },
  {
   "cell_type": "code",
   "execution_count": 7,
   "id": "80191b9b-6542-45be-8bcc-90bb08be3d3f",
   "metadata": {},
   "outputs": [
    {
     "name": "stdout",
     "output_type": "stream",
     "text": [
      "Dot Product: 32\n"
     ]
    }
   ],
   "source": [
    "# Dot Product\n",
    "print(\"Dot Product:\",np.dot(v1,v2))"
   ]
  },
  {
   "cell_type": "code",
   "execution_count": 10,
   "id": "6a748232-aa8a-4896-843b-84d0e68169e4",
   "metadata": {},
   "outputs": [
    {
     "name": "stdout",
     "output_type": "stream",
     "text": [
      "Cross product: [-3  6 -3]\n"
     ]
    }
   ],
   "source": [
    "# Cross Product\n",
    "print(\"Cross product:\",np.cross(v1,v2))"
   ]
  },
  {
   "cell_type": "code",
   "execution_count": 11,
   "id": "61af5fae-b792-4326-ab50-e3e879195f4a",
   "metadata": {},
   "outputs": [
    {
     "name": "stdout",
     "output_type": "stream",
     "text": [
      "Magnitude of v1: 3.7416573867739413\n"
     ]
    }
   ],
   "source": [
    "# Magnitude of vector\n",
    "print(\"Magnitude of v1:\",\n",
    "      np.linalg.norm(v1))"
   ]
  },
  {
   "cell_type": "code",
   "execution_count": null,
   "id": "77c63937-b78f-497b-9ba3-073b5d4876cb",
   "metadata": {},
   "outputs": [],
   "source": []
  }
 ],
 "metadata": {
  "kernelspec": {
   "display_name": "Python [conda env:base] *",
   "language": "python",
   "name": "conda-base-py"
  },
  "language_info": {
   "codemirror_mode": {
    "name": "ipython",
    "version": 3
   },
   "file_extension": ".py",
   "mimetype": "text/x-python",
   "name": "python",
   "nbconvert_exporter": "python",
   "pygments_lexer": "ipython3",
   "version": "3.13.5"
  }
 },
 "nbformat": 4,
 "nbformat_minor": 5
}
